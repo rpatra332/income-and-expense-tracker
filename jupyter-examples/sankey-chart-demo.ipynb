{
 "cells": [
  {
   "cell_type": "code",
   "execution_count": null,
   "metadata": {},
   "outputs": [],
   "source": [
    "import plotly.graph_objects as go"
   ]
  },
  {
   "attachments": {},
   "cell_type": "markdown",
   "metadata": {},
   "source": [
    "# Simple Example\n"
   ]
  },
  {
   "cell_type": "code",
   "execution_count": null,
   "metadata": {},
   "outputs": [],
   "source": [
    "# data\n",
    "label = [\"Income\", \"Other Income\", \"Total Income\", \"Rent\", \"Food\"]\n",
    "source = [0, 1, 2, 2]\n",
    "target = [2, 2, 3, 4]\n",
    "value = [10, 2, 6, 4]\n",
    "\n",
    "#data to dict, dict to sankey\n",
    "link = dict(source = source, target = target, value = value)\n",
    "node = dict(label = label, pad = 50, thickness = 5)\n",
    "data = go.Sankey(link = link, node = node)\n",
    "\n",
    "# plot\n",
    "fig = go.Figure(data)\n",
    "fig"
   ]
  },
  {
   "attachments": {},
   "cell_type": "markdown",
   "metadata": {},
   "source": [
    "# Dynamic Example"
   ]
  },
  {
   "cell_type": "code",
   "execution_count": null,
   "metadata": {},
   "outputs": [],
   "source": [
    "incomes = {\"Salary\" : 1000, \"Other Income\" : 500}\n",
    "expenses = {'Rent': 500, \"Utilities\": 300, \"Groceries\": 200, \"Other Expenses\": 300}"
   ]
  },
  {
   "attachments": {},
   "cell_type": "markdown",
   "metadata": {},
   "source": [
    "Create the following lists dynamically with the given input params\n",
    "\n",
    "**label** = [\"Income\", \"Other Income\", \"Total Income\", \"Rent\", \"Utilities\", \"Groceries\", \"Other Expenses\"]\\\n",
    "**source** = [0, 1, 2, 2]\\\n",
    "**target** = [2, 2, 3, 4]\\\n",
    "**value** = [10, 2, 6, 4]\\"
   ]
  },
  {
   "cell_type": "code",
   "execution_count": null,
   "metadata": {},
   "outputs": [],
   "source": [
    "label = list(incomes.keys()) + [\"Total Income\"] + list(expenses.keys())\n",
    "label"
   ]
  },
  {
   "cell_type": "code",
   "execution_count": null,
   "metadata": {},
   "outputs": [],
   "source": [
    "value = list(incomes.values()) + list(expenses.values())\n",
    "value"
   ]
  },
  {
   "cell_type": "code",
   "execution_count": null,
   "metadata": {},
   "outputs": [],
   "source": [
    "source = list(range(len(incomes))) + [len(incomes)] * len(expenses)\n",
    "source"
   ]
  },
  {
   "cell_type": "code",
   "execution_count": null,
   "metadata": {},
   "outputs": [],
   "source": [
    "target = [len(incomes)]*len(incomes) + [label.index(expense) for expense in expenses]\n",
    "target"
   ]
  },
  {
   "attachments": {},
   "cell_type": "markdown",
   "metadata": {},
   "source": [
    "# Final Script"
   ]
  },
  {
   "cell_type": "code",
   "execution_count": null,
   "metadata": {},
   "outputs": [],
   "source": [
    "# Create sankey chart\n",
    "label = list(incomes.keys()) + [\"Total Income\"] + list(expenses.keys())\n",
    "source = list(range(len(incomes))) + [len(incomes)] * len(expenses)\n",
    "target = [len(incomes)]*len(incomes) + [label.index(expense) for expense in expenses]\n",
    "value = list(incomes.values()) + list(expenses.values())\n",
    "\n",
    "#Data to dict, dict to sankey\n",
    "link = dict(source = source, target = target, value = value)\n",
    "node = dict(label = label, pad = 20, thickness = 30, color=\"#e694ff\")\n",
    "data = go.Sankey(link = link, node = node)\n",
    "\n",
    "#Plotting\n",
    "fig = go.Figure(data)\n",
    "fig.update_layout(margin=dict(l=0,r=0,t=5,b=5))\n",
    "fig"
   ]
  }
 ],
 "metadata": {
  "kernelspec": {
   "display_name": "Python 3",
   "language": "python",
   "name": "python3"
  },
  "language_info": {
   "codemirror_mode": {
    "name": "ipython",
    "version": 3
   },
   "file_extension": ".py",
   "mimetype": "text/x-python",
   "name": "python",
   "nbconvert_exporter": "python",
   "pygments_lexer": "ipython3",
   "version": "3.9.12"
  },
  "orig_nbformat": 4
 },
 "nbformat": 4,
 "nbformat_minor": 2
}
